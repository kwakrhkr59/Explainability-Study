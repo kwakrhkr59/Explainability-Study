{
 "cells": [
  {
   "cell_type": "markdown",
   "metadata": {
    "colab_type": "text",
    "id": "qzlZLvrDRGJ8"
   },
   "source": [
    "# Setup"
   ]
  },
  {
   "cell_type": "code",
   "execution_count": 1,
   "metadata": {
    "colab": {
     "base_uri": "https://localhost:8080/",
     "height": 130
    },
    "colab_type": "code",
    "id": "L5TJcHzzp18U",
    "outputId": "13ce111a-b360-42ee-a688-9e2a999f43e9"
   },
   "outputs": [
    {
     "name": "stderr",
     "output_type": "stream",
     "text": [
      "Using TensorFlow backend.\n"
     ]
    }
   ],
   "source": [
    "from warnings import simplefilter \n",
    "simplefilter(action='ignore', category=FutureWarning)\n",
    "\n",
    "\n",
    "from tensorflow.keras import backend as K\n",
    "from tensorflow.keras.models import load_model\n",
    "from tensorflow.keras.utils import to_categorical\n",
    "from sklearn.metrics import f1_score, accuracy_score, confusion_matrix\n",
    "import itertools\n",
    "from random import randint\n",
    "\n",
    "import IPython.display as ipd\n",
    "from scipy.io import wavfile\n",
    "from moviepy.editor import *\n",
    "from moviepy.video.io.bindings import mplfig_to_npimage\n",
    "import warnings\n",
    "import librosa\n",
    "\n",
    "import matplotlib\n",
    "from matplotlib import animation\n",
    "%matplotlib inline\n",
    "import matplotlib.pyplot as plt\n",
    "import matplotlib.cm as cm\n",
    "import matplotlib.colors as colors   \n",
    "import numpy as np\n",
    "import os\n",
    "import cv2\n",
    "import shap\n",
    "\n",
    "import vis\n",
    "from vis.visualization import visualize_saliency\n",
    "from vis.utils import utils\n",
    "\n",
    "# Writer = animation.writers['ffmpeg']\n",
    "# writer = Writer(fps=15, metadata=dict(artist='Me'), bitrate=1800)\n",
    "# plt.rcParams.update({'font.size': 22})\n",
    "\n",
    "from exmatchina import *"
   ]
  },
  {
   "cell_type": "code",
   "execution_count": 2,
   "metadata": {
    "colab": {
     "base_uri": "https://localhost:8080/",
     "height": 205
    },
    "colab_type": "code",
    "id": "DUV0ktjAw6P4",
    "outputId": "1354f119-b0f0-43a3-c759-2df4320d73c9"
   },
   "outputs": [],
   "source": [
    "num_classes = 10\n",
    "sample_rate = 8000\n",
    "\n",
    "classes = ['down', 'go', 'left', 'no', 'off', 'on', 'right', 'stop', 'up', 'yes']\n",
    "\n",
    "\n",
    "class_dict = {\n",
    "    'down': 0,\n",
    "    'go': 1,\n",
    "    'left': 2,\n",
    "    'no': 3,\n",
    "    'off': 4,\n",
    "    'on': 5,\n",
    "    'right': 6,\n",
    "    'stop': 7,\n",
    "    'up': 8,\n",
    "    'yes': 9\n",
    "}\n",
    "\n",
    "inv_class_dict = {v: k for k, v in class_dict.items()}\n",
    "\n",
    "## These are the randomly generated indices that were used in our survey\n",
    "\n",
    "# all_idx = np.array([   5,   25,  138,  153,  164,  256,  313,  413,  431,  452,  570,\n",
    "#         620,  626,  646,  652,  670,  673,  712,  790,  855,  891,  919,\n",
    "#         946,  995, 1027, 1032, 1044, 1047, 1080, 1091, 1151, 1164, 1165,\n",
    "#        1192, 1321, 1331, 1338, 1445, 1520, 1538, 1635, 1680, 1752, 1959,\n",
    "#        2008, 2090, 2091, 2108, 2160, 2259, 2272, 2291, 2292, 2363, 2399,\n",
    "#        2485, 2490, 2501, 2528, 2528, 2615, 2630, 2655, 2665, 2679, 2697,\n",
    "#        2699, 2711, 2757, 2841, 2909, 2958, 2995, 3009, 3060, 3168, 3191,\n",
    "#        3379, 3465, 3480, 3510, 3544, 3609, 3618, 3656, 3776, 3785, 3802,\n",
    "#        3815, 3838, 3982, 4013, 4069, 4076, 4136, 4141, 4157, 4195, 4203,\n",
    "#        4259])\n",
    "all_idx =  np.array([   5,   25,  138]) #Considering just 3 samples"
   ]
  },
  {
   "cell_type": "markdown",
   "metadata": {
    "colab_type": "text",
    "id": "6qozx63zQJ9f"
   },
   "source": [
    "# Load numpy files of data sets"
   ]
  },
  {
   "cell_type": "code",
   "execution_count": 3,
   "metadata": {
    "colab": {
     "base_uri": "https://localhost:8080/",
     "height": 92
    },
    "colab_type": "code",
    "id": "09byf8xzq-vj",
    "outputId": "3d10d023-11ca-4e72-ad20-2c1318e7421f"
   },
   "outputs": [
    {
     "name": "stdout",
     "output_type": "stream",
     "text": [
      "(17049, 8000, 1)\n",
      "(17049, 10)\n",
      "(4263, 8000, 1)\n",
      "(4263, 10)\n"
     ]
    }
   ],
   "source": [
    "x_train = np.load('../data/audio/X_train.npy')\n",
    "y_train = np.load('../data/audio/y_train.npy')\n",
    "x_test = np.load('../data/audio/X_test.npy')\n",
    "y_test = np.load('../data/audio/y_test.npy')\n",
    "\n",
    "print(x_train.shape)\n",
    "print(y_train.shape)\n",
    "print(x_test.shape)\n",
    "print(y_test.shape)"
   ]
  },
  {
   "cell_type": "code",
   "execution_count": 4,
   "metadata": {
    "colab": {},
    "colab_type": "code",
    "id": "_dg347fZQWXb"
   },
   "outputs": [],
   "source": [
    "def plot(idx):\n",
    "    frames = 20\n",
    "\n",
    "    X_MIN = 0\n",
    "    X_MAX = 1\n",
    "    Y_MIN = x_test[idx].min()\n",
    "    Y_MAX = x_test[idx].max()\n",
    "    X_VALS = np.linspace(X_MIN, X_MAX, frames) # possible x values for the line\n",
    "\n",
    "    # save test sample as wav file\n",
    "    librosa.output.write_wav('./audio/' + str(idx) + '.wav', x_test[idx].ravel(), sample_rate)\n",
    "\n",
    "    # load in the wav file\n",
    "    audioclip = AudioFileClip('./audio/' + str(idx) + '.wav')\n",
    "    new_audioclip = CompositeAudioClip([audioclip])\n",
    "\n",
    "    fig, ax = plt.subplots(figsize=(16, 8))\n",
    "    ax.set_xlabel('Time')\n",
    "    ax.set_ylabel('Amplitude')\n",
    "    l,v = ax.plot(X_MIN, Y_MIN, X_MAX, Y_MAX, linewidth=2, color='black')\n",
    "    ax.plot(np.linspace(0, 1, sample_rate), x_test[idx])\n",
    "\n",
    "    def make_frame(t):\n",
    "        # ax.clear()\n",
    "        x = X_VALS[int(t*frames)]\n",
    "        l.set_data( [x, x], [Y_MIN, Y_MAX])\n",
    "\n",
    "        return mplfig_to_npimage(fig)\n",
    "\n",
    "    # create line movement animation\n",
    "    animation = VideoClip(make_frame, duration=audioclip.duration)\n",
    "\n",
    "    animation.audio = new_audioclip\n",
    "\n",
    "    #save video\n",
    "    animation.write_videofile('./audio/' + str(idx) + '.mp4', fps=frames)\n",
    "\n",
    "    plt.close(fig)\n"
   ]
  },
  {
   "cell_type": "code",
   "execution_count": 5,
   "metadata": {
    "colab": {},
    "colab_type": "code",
    "id": "OA0_Rn84P1sn"
   },
   "outputs": [
    {
     "name": "stdout",
     "output_type": "stream",
     "text": [
      "Moviepy - Building video ./audio/5.mp4.\n",
      "MoviePy - Writing audio in 5TEMP_MPY_wvf_snd.mp3\n"
     ]
    },
    {
     "name": "stderr",
     "output_type": "stream",
     "text": [
      "t:  20%|██████████████                                                        | 4/20 [00:00<00:00, 37.12it/s, now=None]"
     ]
    },
    {
     "name": "stdout",
     "output_type": "stream",
     "text": [
      "MoviePy - Done.\n",
      "Moviepy - Writing video ./audio/5.mp4\n",
      "\n"
     ]
    },
    {
     "name": "stderr",
     "output_type": "stream",
     "text": [
      "                                                                                                                       \r"
     ]
    },
    {
     "name": "stdout",
     "output_type": "stream",
     "text": [
      "Moviepy - Done !\n",
      "Moviepy - video ready ./audio/5.mp4\n",
      "Moviepy - Building video ./audio/25.mp4."
     ]
    },
    {
     "name": "stderr",
     "output_type": "stream",
     "text": [
      "t:   0%|                                                                              | 0/20 [00:00<?, ?it/s, now=None]"
     ]
    },
    {
     "name": "stdout",
     "output_type": "stream",
     "text": [
      "\n",
      "MoviePy - Writing audio in 25TEMP_MPY_wvf_snd.mp3\n",
      "MoviePy - Done.\n",
      "Moviepy - Writing video ./audio/25.mp4\n",
      "\n"
     ]
    },
    {
     "name": "stderr",
     "output_type": "stream",
     "text": [
      "                                                                                                                       \r"
     ]
    },
    {
     "name": "stdout",
     "output_type": "stream",
     "text": [
      "Moviepy - Done !\n",
      "Moviepy - video ready ./audio/25.mp4\n",
      "Moviepy - Building video ./audio/138.mp4.\n",
      "MoviePy - Writing audio in 138TEMP_MPY_wvf_snd.mp3\n"
     ]
    },
    {
     "name": "stderr",
     "output_type": "stream",
     "text": [
      "t:  20%|██████████████                                                        | 4/20 [00:00<00:00, 34.27it/s, now=None]"
     ]
    },
    {
     "name": "stdout",
     "output_type": "stream",
     "text": [
      "MoviePy - Done.\n",
      "Moviepy - Writing video ./audio/138.mp4\n",
      "\n"
     ]
    },
    {
     "name": "stderr",
     "output_type": "stream",
     "text": [
      "                                                                                                                       \r"
     ]
    },
    {
     "name": "stdout",
     "output_type": "stream",
     "text": [
      "Moviepy - Done !\n",
      "Moviepy - video ready ./audio/138.mp4\n"
     ]
    }
   ],
   "source": [
    "for i in all_idx:\n",
    "    plot(i)"
   ]
  },
  {
   "cell_type": "markdown",
   "metadata": {
    "colab_type": "text",
    "id": "U4lN83HKRENo"
   },
   "source": [
    "# Load CNN "
   ]
  },
  {
   "cell_type": "code",
   "execution_count": 6,
   "metadata": {
    "colab": {},
    "colab_type": "code",
    "id": "W7CJ4ZjORIsx"
   },
   "outputs": [
    {
     "name": "stdout",
     "output_type": "stream",
     "text": [
      "WARNING:tensorflow:From C:\\Users\\vikra\\.conda\\envs\\tf2\\lib\\site-packages\\tensorflow_core\\python\\ops\\init_ops.py:97: calling GlorotUniform.__init__ (from tensorflow.python.ops.init_ops) with dtype is deprecated and will be removed in a future version.\n",
      "Instructions for updating:\n",
      "Call initializer instance with the dtype argument instead of passing it to the constructor\n",
      "WARNING:tensorflow:From C:\\Users\\vikra\\.conda\\envs\\tf2\\lib\\site-packages\\tensorflow_core\\python\\ops\\init_ops.py:97: calling Zeros.__init__ (from tensorflow.python.ops.init_ops) with dtype is deprecated and will be removed in a future version.\n",
      "Instructions for updating:\n",
      "Call initializer instance with the dtype argument instead of passing it to the constructor\n",
      "WARNING:tensorflow:From C:\\Users\\vikra\\.conda\\envs\\tf2\\lib\\site-packages\\tensorflow_core\\python\\ops\\resource_variable_ops.py:1630: calling BaseResourceVariable.__init__ (from tensorflow.python.ops.resource_variable_ops) with constraint is deprecated and will be removed in a future version.\n",
      "Instructions for updating:\n",
      "If using Keras pass *_constraint arguments to layers.\n",
      "Model: \"model_2\"\n",
      "_________________________________________________________________\n",
      "Layer (type)                 Output Shape              Param #   \n",
      "=================================================================\n",
      "Input_1 (InputLayer)         [(None, 8000, 1)]         0         \n",
      "_________________________________________________________________\n",
      "Conv_1 (Conv1D)              (None, 8000, 8)           112       \n",
      "_________________________________________________________________\n",
      "Max_1 (MaxPooling1D)         (None, 2666, 8)           0         \n",
      "_________________________________________________________________\n",
      "Drop_1 (Dropout)             (None, 2666, 8)           0         \n",
      "_________________________________________________________________\n",
      "Conv_2 (Conv1D)              (None, 2666, 16)          1424      \n",
      "_________________________________________________________________\n",
      "Max_2 (MaxPooling1D)         (None, 888, 16)           0         \n",
      "_________________________________________________________________\n",
      "Drop_2 (Dropout)             (None, 888, 16)           0         \n",
      "_________________________________________________________________\n",
      "Conv_3 (Conv1D)              (None, 888, 32)           4640      \n",
      "_________________________________________________________________\n",
      "Max_3 (MaxPooling1D)         (None, 296, 32)           0         \n",
      "_________________________________________________________________\n",
      "Drop_3 (Dropout)             (None, 296, 32)           0         \n",
      "_________________________________________________________________\n",
      "Conv_4 (Conv1D)              (None, 296, 64)           14400     \n",
      "_________________________________________________________________\n",
      "Max_4 (MaxPooling1D)         (None, 98, 64)            0         \n",
      "_________________________________________________________________\n",
      "Drop_4 (Dropout)             (None, 98, 64)            0         \n",
      "_________________________________________________________________\n",
      "Conv_5 (Conv1D)              (None, 98, 64)            28736     \n",
      "_________________________________________________________________\n",
      "Max_5 (MaxPooling1D)         (None, 32, 64)            0         \n",
      "_________________________________________________________________\n",
      "Drop_5 (Dropout)             (None, 32, 64)            0         \n",
      "_________________________________________________________________\n",
      "flatten_2 (Flatten)          (None, 2048)              0         \n",
      "_________________________________________________________________\n",
      "dense_2 (Dense)              (None, 256)               524544    \n",
      "_________________________________________________________________\n",
      "dropout_2 (Dropout)          (None, 256)               0         \n",
      "_________________________________________________________________\n",
      "logits (Dense)               (None, 10)                2570      \n",
      "_________________________________________________________________\n",
      "probs (Activation)           (None, 10)                0         \n",
      "=================================================================\n",
      "Total params: 576,426\n",
      "Trainable params: 576,426\n",
      "Non-trainable params: 0\n",
      "_________________________________________________________________\n"
     ]
    }
   ],
   "source": [
    "model = load_model('../trained_models/audio.hdf5')\n",
    "model.summary()"
   ]
  },
  {
   "cell_type": "code",
   "execution_count": 7,
   "metadata": {
    "colab": {},
    "colab_type": "code",
    "id": "THoDZ0bTUUki"
   },
   "outputs": [],
   "source": [
    "def calculate_metrics(model, X_test, y_test_binary):\n",
    "    y_pred = np.argmax(model.predict(X_test), axis=1)\n",
    "    y_true = np.argmax(y_test_binary, axis=1)\n",
    "    mismatch = np.where(y_true != y_pred)\n",
    "    cf_matrix = confusion_matrix(y_true, y_pred)\n",
    "    accuracy = accuracy_score(y_true, y_pred)\n",
    "    #micro_f1 = f1_score(y_true, y_pred, average='micro')\n",
    "    macro_f1 = f1_score(y_true, y_pred, average='macro')\n",
    "    return cf_matrix, accuracy, macro_f1, mismatch, y_pred\n",
    "\n",
    "def plot_confusion_matrix(cm, classes,\n",
    "                          normalize=False,\n",
    "                          title='Confusion matrix',\n",
    "                          cmap=plt.cm.Blues):\n",
    "    \"\"\"\n",
    "    This function prints and plots the confusion matrix.\n",
    "    Normalization can be applied by setting `normalize=True`.\n",
    "    \"\"\"\n",
    "    if normalize:\n",
    "        cm = cm.astype('float') / cm.sum(axis=1)[:, np.newaxis]\n",
    "        print(\"Normalized confusion matrix\")\n",
    "        # print(cm)\n",
    "    else:\n",
    "        print('Confusion matrix, without normalization')\n",
    "        # print(cm)\n",
    "\n",
    "    plt.figure(figsize = (11,8))\n",
    "    plt.imshow(cm, interpolation='nearest', cmap=cmap)\n",
    "    plt.title(title)\n",
    "    plt.colorbar()\n",
    "    tick_marks = np.arange(len(classes))\n",
    "    plt.xticks(tick_marks, classes, rotation=90, fontsize = 15)\n",
    "    plt.yticks(tick_marks, classes, fontsize = 15)\n",
    "\n",
    "    fmt = '.2f' if normalize else 'd'\n",
    "    thresh = cm.max() / 2.\n",
    "    for i, j in itertools.product(range(cm.shape[0]), range(cm.shape[1])):\n",
    "        plt.text(j, i, format(cm[i, j], fmt), fontsize = 15,\n",
    "                 horizontalalignment=\"center\",\n",
    "                 color=\"white\" if cm[i, j] > thresh else \"black\")\n",
    "\n",
    "    plt.tight_layout()\n",
    "    \n",
    "    plt.ylabel('True label', fontsize = 12)\n",
    "    plt.xlabel('Predicted label', fontsize = 12)\n",
    "  "
   ]
  },
  {
   "cell_type": "code",
   "execution_count": 9,
   "metadata": {
    "colab": {
     "base_uri": "https://localhost:8080/",
     "height": 658
    },
    "colab_type": "code",
    "id": "V0PTXLLeR3sZ",
    "outputId": "b0be2e31-efc9-44ff-d228-4b86683c6920"
   },
   "outputs": [
    {
     "name": "stdout",
     "output_type": "stream",
     "text": [
      "Accuracy : 0.9017124091015717\n",
      "F1-score : 0.9019898563421807\n",
      "Normalized confusion matrix\n"
     ]
    },
    {
     "data": {
      "image/png": "[encoded data removed]",
      "text/plain": [
       "<Figure size 792x576 with 2 Axes>"
      ]
     },
     "metadata": {
      "needs_background": "light"
     },
     "output_type": "display_data"
    }
   ],
   "source": [
    "cf_matrix, accuracy, macro_f1, mismatch, y_pred = calculate_metrics(model, x_test, y_test)\n",
    "print('Accuracy : {}'.format(accuracy))\n",
    "print('F1-score : {}'.format(macro_f1))\n",
    "\n",
    "plot_confusion_matrix(cf_matrix, classes,\n",
    "                          normalize=True,\n",
    "                          title='Confusion matrix',\n",
    "                          cmap=plt.cm.Blues)"
   ]
  },
  {
   "cell_type": "markdown",
   "metadata": {
    "colab_type": "text",
    "id": "3OHzLJzmW9cL"
   },
   "source": [
    "# SHAP"
   ]
  },
  {
   "cell_type": "code",
   "execution_count": 10,
   "metadata": {
    "colab": {},
    "colab_type": "code",
    "id": "jxE2FxI7W_Im"
   },
   "outputs": [],
   "source": [
    "background = x_train[np.random.choice(x_train.shape[0], 100, replace=False)]\n",
    "\n",
    "def map2layer(x, layer):\n",
    "    feed_dict = dict(zip([model.layers[0].input], x.reshape((1,) + x.shape)))\n",
    "    return K.get_session().run(model.layers[layer].input, feed_dict)\n",
    "\n",
    "def get_shap_full():\n",
    "    e = shap.GradientExplainer(model, background)\n",
    "    shap_values = e.shap_values(to_explain, ranked_outputs=2)\n",
    "    shap.image_plot(shap_values, to_explain, width=5000, hspace='auto')\n"
   ]
  },
  {
   "cell_type": "code",
   "execution_count": 11,
   "metadata": {
    "colab": {},
    "colab_type": "code",
    "id": "CvniLK0-qXPK"
   },
   "outputs": [],
   "source": [
    "colors = []\n",
    "for l in np.linspace(1,0,100):\n",
    "    colors.append((0/255,255/255,255/255,l))\n",
    "for l in np.linspace(0,1,100):\n",
    "    colors.append((255/255,0/255,255/255,l))\n",
    "cmm = matplotlib.colors.LinearSegmentedColormap.from_list(\"shap\", colors)\n",
    "\n",
    "def plot_shap(idx):\n",
    "    layer = 13\n",
    "    frames = 20\n",
    "    X_MIN = 0\n",
    "    X_MAX = 1\n",
    "    Y_MIN = x_test[idx].min()\n",
    "    Y_MAX = x_test[idx].max()\n",
    "    X_VALS = np.linspace(X_MIN, X_MAX, frames) # possible x values for the line\n",
    "\n",
    "    to_explain = np.expand_dims(x_test[idx], axis=0)\n",
    "    e = shap.GradientExplainer((model.layers[layer].input, model.layers[-1].output), map2layer(background, layer))\n",
    "    shap_values,indexes = e.shap_values(map2layer(to_explain, layer), ranked_outputs=1)\n",
    "\n",
    "    abs_vals = np.stack(np.abs(shap_values[0].sum(-1)), 0).flatten()\n",
    "    max_val = np.nanpercentile(abs_vals, 99.9)\n",
    "\n",
    "    shap_values = cv2.resize(shap_values[0][0].sum(-1), (1,8000))\n",
    "    shap_values = shap_values.reshape((8000,1))\n",
    "\n",
    "    fig, ax = plt.subplots(figsize=(16, 8))\n",
    "    ax.set_xlabel('Time')\n",
    "    ax.set_ylabel('Amplitude')\n",
    "    l,v = ax.plot(X_MIN, Y_MIN, X_MAX, Y_MAX, linewidth=2, color='black')\n",
    "    ax.plot(np.linspace(0, 1, sample_rate), x_test[idx])\n",
    "\n",
    "    gradient = shap_values[:,0]\n",
    "    max_g = np.amax(gradient)\n",
    "    min_g = np.amin(gradient)\n",
    "    gradient = (gradient - min_g)/ (max_g - min_g)\n",
    "\n",
    "    for j in range(len(gradient)):\n",
    "        current_color = cmm(gradient[j])\n",
    "        x = j/sample_rate\n",
    "        ax.axvspan(x, x+1/sample_rate, facecolor=current_color)   \n",
    "\n",
    "    sm = cm.ScalarMappable(cmap=cmm)\n",
    "    sm.set_clim(-max_val,max_val)\n",
    "    cb = fig.colorbar(sm, aspect=10)\n",
    "    cb.outline.set_visible(False)\n",
    "\n",
    "    audioclip = AudioFileClip('./audio/' + str(idx) + '.wav')\n",
    "    new_audioclip = CompositeAudioClip([audioclip])\n",
    "\n",
    "    def make_frame(t):\n",
    "        x = X_VALS[int(t*frames)]\n",
    "        l.set_data( [x, x], [Y_MIN, Y_MAX])\n",
    "\n",
    "        return mplfig_to_npimage(fig)\n",
    "\n",
    "    animation = VideoClip(make_frame, duration=audioclip.duration)\n",
    "\n",
    "    animation.audio = new_audioclip\n",
    "\n",
    "    animation.write_videofile('./audio/audio_' + str(idx) + '_shap.mp4', fps=frames, audio_codec='aac')\n",
    "\n",
    "    plt.close(fig)\n",
    "    "
   ]
  },
  {
   "cell_type": "code",
   "execution_count": 12,
   "metadata": {
    "colab": {},
    "colab_type": "code",
    "id": "LTI23bFuqNPG"
   },
   "outputs": [
    {
     "name": "stderr",
     "output_type": "stream",
     "text": [
      "t:   0%|                                                                              | 0/20 [00:00<?, ?it/s, now=None]"
     ]
    },
    {
     "name": "stdout",
     "output_type": "stream",
     "text": [
      "Moviepy - Building video ./audio/audio_5_shap.mp4.\n",
      "MoviePy - Writing audio in audio_5_shapTEMP_MPY_wvf_snd.mp4\n",
      "MoviePy - Done.\n",
      "Moviepy - Writing video ./audio/audio_5_shap.mp4\n",
      "\n"
     ]
    },
    {
     "name": "stderr",
     "output_type": "stream",
     "text": [
      "                                                                                                                       \r"
     ]
    },
    {
     "name": "stdout",
     "output_type": "stream",
     "text": [
      "Moviepy - Done !\n",
      "Moviepy - video ready ./audio/audio_5_shap.mp4\n"
     ]
    },
    {
     "name": "stderr",
     "output_type": "stream",
     "text": [
      "t:   0%|                                                                              | 0/20 [00:00<?, ?it/s, now=None]"
     ]
    },
    {
     "name": "stdout",
     "output_type": "stream",
     "text": [
      "Moviepy - Building video ./audio/audio_25_shap.mp4.\n",
      "MoviePy - Writing audio in audio_25_shapTEMP_MPY_wvf_snd.mp4\n",
      "MoviePy - Done.\n",
      "Moviepy - Writing video ./audio/audio_25_shap.mp4\n",
      "\n"
     ]
    },
    {
     "name": "stderr",
     "output_type": "stream",
     "text": [
      "                                                                                                                       \r"
     ]
    },
    {
     "name": "stdout",
     "output_type": "stream",
     "text": [
      "Moviepy - Done !\n",
      "Moviepy - video ready ./audio/audio_25_shap.mp4\n"
     ]
    },
    {
     "name": "stderr",
     "output_type": "stream",
     "text": [
      "t:   0%|                                                                              | 0/20 [00:00<?, ?it/s, now=None]"
     ]
    },
    {
     "name": "stdout",
     "output_type": "stream",
     "text": [
      "Moviepy - Building video ./audio/audio_138_shap.mp4.\n",
      "MoviePy - Writing audio in audio_138_shapTEMP_MPY_wvf_snd.mp4\n",
      "MoviePy - Done.\n",
      "Moviepy - Writing video ./audio/audio_138_shap.mp4\n",
      "\n"
     ]
    },
    {
     "name": "stderr",
     "output_type": "stream",
     "text": [
      "                                                                                                                       "
     ]
    },
    {
     "name": "stdout",
     "output_type": "stream",
     "text": [
      "Moviepy - Done !\n",
      "Moviepy - video ready ./audio/audio_138_shap.mp4\n"
     ]
    },
    {
     "name": "stderr",
     "output_type": "stream",
     "text": [
      "\r"
     ]
    }
   ],
   "source": [
    "for i in all_idx:\n",
    "    plot_shap(i)"
   ]
  },
  {
   "cell_type": "markdown",
   "metadata": {
    "colab_type": "text",
    "id": "iNnnc6msvBUS"
   },
   "source": [
    "# Saliency Map"
   ]
  },
  {
   "cell_type": "code",
   "execution_count": 13,
   "metadata": {
    "colab": {},
    "colab_type": "code",
    "id": "HfC7zl6Exzdc"
   },
   "outputs": [
    {
     "name": "stdout",
     "output_type": "stream",
     "text": [
      "Model: \"model\"\n",
      "_________________________________________________________________\n",
      "Layer (type)                 Output Shape              Param #   \n",
      "=================================================================\n",
      "Input_1 (InputLayer)         [(None, 8000, 1)]         0         \n",
      "_________________________________________________________________\n",
      "Conv_1 (Conv1D)              (None, 8000, 8)           112       \n",
      "_________________________________________________________________\n",
      "Max_1 (MaxPooling1D)         (None, 2666, 8)           0         \n",
      "_________________________________________________________________\n",
      "Drop_1 (Dropout)             (None, 2666, 8)           0         \n",
      "_________________________________________________________________\n",
      "Conv_2 (Conv1D)              (None, 2666, 16)          1424      \n",
      "_________________________________________________________________\n",
      "Max_2 (MaxPooling1D)         (None, 888, 16)           0         \n",
      "_________________________________________________________________\n",
      "Drop_2 (Dropout)             (None, 888, 16)           0         \n",
      "_________________________________________________________________\n",
      "Conv_3 (Conv1D)              (None, 888, 32)           4640      \n",
      "_________________________________________________________________\n",
      "Max_3 (MaxPooling1D)         (None, 296, 32)           0         \n",
      "_________________________________________________________________\n",
      "Drop_3 (Dropout)             (None, 296, 32)           0         \n",
      "_________________________________________________________________\n",
      "Conv_4 (Conv1D)              (None, 296, 64)           14400     \n",
      "_________________________________________________________________\n",
      "Max_4 (MaxPooling1D)         (None, 98, 64)            0         \n",
      "_________________________________________________________________\n",
      "Drop_4 (Dropout)             (None, 98, 64)            0         \n",
      "_________________________________________________________________\n",
      "Conv_5 (Conv1D)              (None, 98, 64)            28736     \n",
      "_________________________________________________________________\n",
      "Max_5 (MaxPooling1D)         (None, 32, 64)            0         \n",
      "_________________________________________________________________\n",
      "Drop_5 (Dropout)             (None, 32, 64)            0         \n",
      "_________________________________________________________________\n",
      "flatten_2 (Flatten)          (None, 2048)              0         \n",
      "_________________________________________________________________\n",
      "dense_2 (Dense)              (None, 256)               524544    \n",
      "_________________________________________________________________\n",
      "dropout_2 (Dropout)          (None, 256)               0         \n",
      "_________________________________________________________________\n",
      "logits (Dense)               (None, 10)                2570      \n",
      "=================================================================\n",
      "Total params: 576,426\n",
      "Trainable params: 576,426\n",
      "Non-trainable params: 0\n",
      "_________________________________________________________________\n"
     ]
    }
   ],
   "source": [
    "# Saliency map requires the logits\n",
    "new_model = Model(inputs=model.input,\n",
    "                  outputs=model.get_layer(\"logits\").output)\n",
    "new_model.summary()"
   ]
  },
  {
   "cell_type": "code",
   "execution_count": 14,
   "metadata": {
    "colab": {},
    "colab_type": "code",
    "id": "ipbC7UFrx0bU"
   },
   "outputs": [],
   "source": [
    "def plot_map(idx, class_pred, grads):\n",
    "    \n",
    "    print(inv_class_dict[class_pred])\n",
    "    \n",
    "    frames = 20\n",
    "    X_MIN = 0\n",
    "    X_MAX = 1\n",
    "    Y_MIN = x_test[idx].min()\n",
    "    Y_MAX = x_test[idx].max()\n",
    "    X_VALS = np.linspace(X_MIN, X_MAX, frames) # possible x values for the line\n",
    "    \n",
    "    fig, ax = plt.subplots(figsize=(16, 8))\n",
    "    ax.set_xlabel('Time')\n",
    "    ax.set_ylabel('Amplitude')\n",
    "    l,v = ax.plot(X_MIN, Y_MIN, X_MAX, Y_MAX, linewidth=2, color='black')\n",
    "    ax.plot(np.linspace(0, 1, sample_rate), x_test[idx])\n",
    "\n",
    "    gradient = grads\n",
    "    max_g = np.amax(gradient)\n",
    "    min_g = np.amin(gradient)\n",
    "    gradient = (gradient - min_g)/ (max_g - min_g)\n",
    "\n",
    "    for i in range(len(gradient)):\n",
    "        current_color = cm.cool(gradient[i])\n",
    "        x = i/sample_rate\n",
    "        ax.axvspan(x, x+1/sample_rate, facecolor=current_color, alpha=0.7)\n",
    "\n",
    "    fig.subplots_adjust(right=0.85)\n",
    "    cbar_ax = fig.add_axes([0.90, 0.12, 0.03, 0.75])\n",
    "    fig.colorbar(cm.ScalarMappable(cmap=\"cool\"), cbar_ax, alpha=0.8)\n",
    "    audioclip = AudioFileClip('./audio/' + str(idx) + '.wav')\n",
    "\n",
    "    new_audioclip = CompositeAudioClip([audioclip])\n",
    "    \n",
    "    def make_frame(t):\n",
    "        x = X_VALS[int(t*frames)]\n",
    "        l.set_data( [x, x], [Y_MIN, Y_MAX])\n",
    "\n",
    "        return mplfig_to_npimage(fig)\n",
    "\n",
    "    animation = VideoClip(make_frame, duration=audioclip.duration)\n",
    "\n",
    "    animation.audio = new_audioclip\n",
    "\n",
    "    animation.write_videofile('./audio/audio_' + str(idx) + '_saliencymap.mp4', fps=frames, audio_codec='aac')\n",
    "\n",
    "    plt.close(fig)"
   ]
  },
  {
   "cell_type": "code",
   "execution_count": 15,
   "metadata": {
    "colab": {},
    "colab_type": "code",
    "id": "MDbOS9N7x1tD"
   },
   "outputs": [],
   "source": [
    "def getSaliencyMap(idx):\n",
    "#   with tf.Session() as sess:\n",
    "#     sess.run(tf.global_variables_initializer())\n",
    "    to_explain = np.expand_dims(x_test[idx],axis=0)\n",
    "    class_pred = np.argmax(model.predict(to_explain))\n",
    "\n",
    "    grads = visualize_saliency(new_model,\n",
    "                                13,\n",
    "                                filter_indices = None,\n",
    "                                seed_input = x_test[idx])\n",
    "    plot_map(idx, class_pred , grads)"
   ]
  },
  {
   "cell_type": "code",
   "execution_count": 16,
   "metadata": {
    "colab": {},
    "colab_type": "code",
    "id": "KGhVWJwcyudw"
   },
   "outputs": [
    {
     "name": "stdout",
     "output_type": "stream",
     "text": [
      "WARNING:tensorflow:From C:\\Users\\vikra\\.conda\\envs\\tf2\\lib\\site-packages\\keras\\backend\\tensorflow_backend.py:422: The name tf.global_variables is deprecated. Please use tf.compat.v1.global_variables instead.\n",
      "\n",
      "on\n"
     ]
    },
    {
     "name": "stderr",
     "output_type": "stream",
     "text": [
      "t:   0%|                                                                              | 0/20 [00:00<?, ?it/s, now=None]"
     ]
    },
    {
     "name": "stdout",
     "output_type": "stream",
     "text": [
      "Moviepy - Building video ./audio/audio_5_saliencymap.mp4.\n",
      "MoviePy - Writing audio in audio_5_saliencymapTEMP_MPY_wvf_snd.mp4\n",
      "MoviePy - Done.\n",
      "Moviepy - Writing video ./audio/audio_5_saliencymap.mp4\n",
      "\n"
     ]
    },
    {
     "name": "stderr",
     "output_type": "stream",
     "text": [
      "                                                                                                                       \r"
     ]
    },
    {
     "name": "stdout",
     "output_type": "stream",
     "text": [
      "Moviepy - Done !\n",
      "Moviepy - video ready ./audio/audio_5_saliencymap.mp4\n",
      "no\n"
     ]
    },
    {
     "name": "stderr",
     "output_type": "stream",
     "text": [
      "t:   0%|                                                                              | 0/20 [00:00<?, ?it/s, now=None]"
     ]
    },
    {
     "name": "stdout",
     "output_type": "stream",
     "text": [
      "Moviepy - Building video ./audio/audio_25_saliencymap.mp4.\n",
      "MoviePy - Writing audio in audio_25_saliencymapTEMP_MPY_wvf_snd.mp4\n",
      "MoviePy - Done.\n",
      "Moviepy - Writing video ./audio/audio_25_saliencymap.mp4\n",
      "\n"
     ]
    },
    {
     "name": "stderr",
     "output_type": "stream",
     "text": [
      "                                                                                                                       \r"
     ]
    },
    {
     "name": "stdout",
     "output_type": "stream",
     "text": [
      "Moviepy - Done !\n",
      "Moviepy - video ready ./audio/audio_25_saliencymap.mp4\n",
      "up\n"
     ]
    },
    {
     "name": "stderr",
     "output_type": "stream",
     "text": [
      "t:   0%|                                                                              | 0/20 [00:00<?, ?it/s, now=None]"
     ]
    },
    {
     "name": "stdout",
     "output_type": "stream",
     "text": [
      "Moviepy - Building video ./audio/audio_138_saliencymap.mp4.\n",
      "MoviePy - Writing audio in audio_138_saliencymapTEMP_MPY_wvf_snd.mp4\n",
      "MoviePy - Done.\n",
      "Moviepy - Writing video ./audio/audio_138_saliencymap.mp4\n",
      "\n"
     ]
    },
    {
     "name": "stderr",
     "output_type": "stream",
     "text": [
      "                                                                                                                       "
     ]
    },
    {
     "name": "stdout",
     "output_type": "stream",
     "text": [
      "Moviepy - Done !\n",
      "Moviepy - video ready ./audio/audio_138_saliencymap.mp4\n"
     ]
    },
    {
     "name": "stderr",
     "output_type": "stream",
     "text": [
      "\r"
     ]
    }
   ],
   "source": [
    "for i in all_idx:\n",
    "    getSaliencyMap(i)"
   ]
  },
  {
   "cell_type": "markdown",
   "metadata": {
    "colab_type": "text",
    "id": "QPhuST2_y5kl"
   },
   "source": [
    "# Grad-Cam++"
   ]
  },
  {
   "cell_type": "code",
   "execution_count": 17,
   "metadata": {
    "colab": {},
    "colab_type": "code",
    "id": "f_IKhF1Sy7ZP"
   },
   "outputs": [],
   "source": [
    "def normalize(x):\n",
    "    return x / (K.sqrt(K.mean(K.square(x))) + 1e-5)\n",
    "\n",
    "def plot_cam(idx, class_idx, heatmap):\n",
    "\n",
    "    frames = 20\n",
    "    X_MIN = 0\n",
    "    X_MAX = 1\n",
    "    Y_MIN = x_test[idx].min()\n",
    "    Y_MAX = x_test[idx].max()\n",
    "    X_VALS = np.linspace(X_MIN, X_MAX, frames) # possible x values for the line\n",
    "\n",
    "    fig, ax = plt.subplots(figsize=(16, 8))\n",
    "    ax.set_xlabel('Time')\n",
    "    ax.set_ylabel('Amplitude')\n",
    "    l,v = ax.plot(X_MIN, Y_MIN, X_MAX, Y_MAX, linewidth=2, color='black')\n",
    "    ax.plot(np.linspace(0, 1, sample_rate), x_test[idx])\n",
    "\n",
    "    gradient = heatmap.reshape((8000,))\n",
    "    max_g = np.amax(gradient)\n",
    "    min_g = np.amin(gradient)\n",
    "    gradient = (gradient - min_g)/ (max_g - min_g)\n",
    "\n",
    "    for i in range(len(gradient)):\n",
    "        current_color = cm.cool(gradient[i])\n",
    "        x = i/sample_rate\n",
    "        ax.axvspan(x, x+1/sample_rate, facecolor=current_color, alpha=0.7)\n",
    "\n",
    "    fig.subplots_adjust(right=0.85)\n",
    "    cbar_ax = fig.add_axes([0.90, 0.12, 0.03, 0.75])\n",
    "    fig.colorbar(cm.ScalarMappable(cmap=\"cool\"), cbar_ax, alpha=0.8)\n",
    "\n",
    "    audioclip = AudioFileClip('./audio/' + str(idx) + '.wav')\n",
    "\n",
    "    new_audioclip = CompositeAudioClip([audioclip])\n",
    "\n",
    "    def make_frame(t):\n",
    "        # ax.clear()\n",
    "        x = X_VALS[int(t*frames)]\n",
    "        l.set_data( [x, x], [Y_MIN, Y_MAX])\n",
    "\n",
    "        return mplfig_to_npimage(fig)\n",
    "\n",
    "    animation = VideoClip(make_frame, duration=audioclip.duration)\n",
    "\n",
    "    animation.audio = new_audioclip\n",
    "\n",
    "    animation.write_videofile('./audio/audio_' + str(idx) + '_gradcampp.mp4', fps=frames,audio_codec='aac')\n",
    "\n",
    "    plt.close(fig)\n",
    "\n",
    "def get_gradcampp(idx):\n",
    "    img = x_test[idx]\n",
    "    class_idx = np.argmax(y_test[idx])\n",
    "    \n",
    "    # for cam\n",
    "    x = np.expand_dims(img, axis=0)\n",
    "\n",
    "    # cam / superimpose\n",
    "    cls_pred, cam = grad_cam_plus_plus(input_model=model, x=x, layer_name=\"Conv_5\")\n",
    "    heatmap = cv2.resize(cam, (1,8000))\n",
    "    heatmap = heatmap.reshape((8000,1))\n",
    "\n",
    "    plot_cam(idx,class_idx, heatmap)\n",
    "\n",
    "def grad_cam_plus_plus(input_model, x, layer_name):\n",
    "    cls = np.argmax(model.predict(x))\n",
    "    y_c = model.output[0, cls]\n",
    "    conv_output = model.get_layer(layer_name).output\n",
    "    grads = normalize(K.gradients(y_c, conv_output)[0])\n",
    "\n",
    "    first = K.exp(y_c) * grads\n",
    "    second = K.exp(y_c) * grads * grads\n",
    "    third = K.exp(y_c) * grads * grads * grads\n",
    "\n",
    "    gradient_function = K.function([model.input], [y_c, first, second, third, conv_output, grads])\n",
    "    y_c, conv_first_grad, conv_second_grad, conv_third_grad, conv_output, grads_val = gradient_function([x])\n",
    "    global_sum = np.sum(conv_output[0].reshape((-1,conv_first_grad[0].shape[1])), axis=0)\n",
    "\n",
    "    alpha_num = conv_second_grad[0]\n",
    "    alpha_denom = conv_second_grad[0] * 2.0 + conv_third_grad[0] * global_sum.reshape((1, 1, conv_first_grad[0].shape[1]))\n",
    "    alpha_denom = np.where(alpha_denom != 0.0, alpha_denom, np.ones(alpha_denom.shape))\n",
    "\n",
    "    alphas = alpha_num / alpha_denom # 0\n",
    "\n",
    "    weights = np.maximum(conv_first_grad[0], 0.0)\n",
    "    alpha_normalization_constant = np.sum(np.sum(alphas, axis=0), axis=0) # 0\n",
    "    alphas /= alpha_normalization_constant.reshape((1, 1, conv_first_grad[0].shape[1])) # NAN\n",
    "    deep_linearization_weights = np.sum((weights * alphas).reshape((-1, conv_first_grad[0].shape[1])), axis=0)\n",
    "\n",
    "    cam = np.sum(deep_linearization_weights * conv_output[0], axis=1)\n",
    "\n",
    "    cam = np.maximum(cam, 0) \n",
    "    if cam.max() == 0:\n",
    "        print(idx)\n",
    "    cam /= cam.max() \n",
    "\n",
    "    return cls, cam"
   ]
  },
  {
   "cell_type": "code",
   "execution_count": 18,
   "metadata": {
    "colab": {},
    "colab_type": "code",
    "id": "Ep7TK3_Py_EJ"
   },
   "outputs": [
    {
     "name": "stderr",
     "output_type": "stream",
     "text": [
      "t:   0%|                                                                              | 0/20 [00:00<?, ?it/s, now=None]"
     ]
    },
    {
     "name": "stdout",
     "output_type": "stream",
     "text": [
      "Moviepy - Building video ./audio/audio_5_gradcampp.mp4.\n",
      "MoviePy - Writing audio in audio_5_gradcamppTEMP_MPY_wvf_snd.mp4\n",
      "MoviePy - Done.\n",
      "Moviepy - Writing video ./audio/audio_5_gradcampp.mp4\n",
      "\n"
     ]
    },
    {
     "name": "stderr",
     "output_type": "stream",
     "text": [
      "                                                                                                                       \r"
     ]
    },
    {
     "name": "stdout",
     "output_type": "stream",
     "text": [
      "Moviepy - Done !\n",
      "Moviepy - video ready ./audio/audio_5_gradcampp.mp4\n"
     ]
    },
    {
     "name": "stderr",
     "output_type": "stream",
     "text": [
      "t:   0%|                                                                              | 0/20 [00:00<?, ?it/s, now=None]"
     ]
    },
    {
     "name": "stdout",
     "output_type": "stream",
     "text": [
      "Moviepy - Building video ./audio/audio_25_gradcampp.mp4.\n",
      "MoviePy - Writing audio in audio_25_gradcamppTEMP_MPY_wvf_snd.mp4\n",
      "MoviePy - Done.\n",
      "Moviepy - Writing video ./audio/audio_25_gradcampp.mp4\n",
      "\n"
     ]
    },
    {
     "name": "stderr",
     "output_type": "stream",
     "text": [
      "                                                                                                                       \r"
     ]
    },
    {
     "name": "stdout",
     "output_type": "stream",
     "text": [
      "Moviepy - Done !\n",
      "Moviepy - video ready ./audio/audio_25_gradcampp.mp4\n"
     ]
    },
    {
     "name": "stderr",
     "output_type": "stream",
     "text": [
      "t:   0%|                                                                              | 0/20 [00:00<?, ?it/s, now=None]"
     ]
    },
    {
     "name": "stdout",
     "output_type": "stream",
     "text": [
      "Moviepy - Building video ./audio/audio_138_gradcampp.mp4.\n",
      "MoviePy - Writing audio in audio_138_gradcamppTEMP_MPY_wvf_snd.mp4\n",
      "MoviePy - Done.\n",
      "Moviepy - Writing video ./audio/audio_138_gradcampp.mp4\n",
      "\n"
     ]
    },
    {
     "name": "stderr",
     "output_type": "stream",
     "text": [
      "                                                                                                                       "
     ]
    },
    {
     "name": "stdout",
     "output_type": "stream",
     "text": [
      "Moviepy - Done !\n",
      "Moviepy - video ready ./audio/audio_138_gradcampp.mp4\n"
     ]
    },
    {
     "name": "stderr",
     "output_type": "stream",
     "text": [
      "\r"
     ]
    }
   ],
   "source": [
    "for i in all_idx:\n",
    "    get_gradcampp(i)"
   ]
  },
  {
   "cell_type": "markdown",
   "metadata": {
    "colab_type": "text",
    "id": "seig_0Hnw-iQ"
   },
   "source": [
    "# Examples"
   ]
  },
  {
   "cell_type": "code",
   "execution_count": 19,
   "metadata": {
    "colab": {},
    "colab_type": "code",
    "id": "lc16tD35Rijt"
   },
   "outputs": [],
   "source": [
    "def plot_audio(audio, filename):\n",
    "    frames = 20\n",
    "    sample_rate = 8000\n",
    "\n",
    "    X_MIN = 0\n",
    "    X_MAX = 1\n",
    "    Y_MIN = audio.min()\n",
    "    Y_MAX = audio.max()\n",
    "    X_VALS = np.linspace(X_MIN, X_MAX, frames) # possible x values for the line\n",
    "\n",
    "    librosa.output.write_wav('./audio/' + str(filename) + '.wav', audio.ravel(), sample_rate)\n",
    "\n",
    "    audioclip = AudioFileClip('./audio/' + str(filename) + '.wav')\n",
    "    new_audioclip = CompositeAudioClip([audioclip])\n",
    "\n",
    "    fig, ax = plt.subplots(figsize=(16, 8))\n",
    "    ax.set_xlabel('Time')\n",
    "    ax.set_ylabel('Amplitude')\n",
    "    l,v = ax.plot(X_MIN, Y_MIN, X_MAX, Y_MAX, linewidth=2, color='black')\n",
    "    ax.plot(np.linspace(0, 1, sample_rate), audio)\n",
    "\n",
    "    def make_frame(t):\n",
    "        # ax.clear()\n",
    "        x = X_VALS[int(t*frames)]\n",
    "        l.set_data( [x, x], [Y_MIN, Y_MAX])\n",
    "\n",
    "        return mplfig_to_npimage(fig)\n",
    "\n",
    "    animation = VideoClip(make_frame, duration=audioclip.duration)\n",
    "\n",
    "    animation.audio = new_audioclip\n",
    "\n",
    "    animation.write_videofile('./audio/' + str(filename) + '.mp4', fps=frames, audio_codec='aac')\n",
    "\n",
    "    plt.close(fig)\n"
   ]
  },
  {
   "cell_type": "code",
   "execution_count": 20,
   "metadata": {
    "colab": {},
    "colab_type": "code",
    "id": "O-2jUSSjS2xY"
   },
   "outputs": [
    {
     "name": "stdout",
     "output_type": "stream",
     "text": [
      "Getting activations...\n",
      "Getting labels...\n",
      "Generating activation matrix...\n"
     ]
    }
   ],
   "source": [
    "selected_layer = 'flatten_2'\n",
    "\n",
    "exm = ExMatchina(model=model, layer=selected_layer, examples=x_train)"
   ]
  },
  {
   "cell_type": "code",
   "execution_count": 21,
   "metadata": {},
   "outputs": [
    {
     "name": "stderr",
     "output_type": "stream",
     "text": [
      "t:   0%|                                                                              | 0/20 [00:00<?, ?it/s, now=None]"
     ]
    },
    {
     "name": "stdout",
     "output_type": "stream",
     "text": [
      "Moviepy - Building video ./audio/audio_5.mp4.\n",
      "MoviePy - Writing audio in audio_5TEMP_MPY_wvf_snd.mp4\n",
      "MoviePy - Done.\n",
      "Moviepy - Writing video ./audio/audio_5.mp4\n",
      "\n"
     ]
    },
    {
     "name": "stderr",
     "output_type": "stream",
     "text": [
      "chunk:   0%|                                                                          | 0/23 [00:00<?, ?it/s, now=None]"
     ]
    },
    {
     "name": "stdout",
     "output_type": "stream",
     "text": [
      "Moviepy - Done !\n",
      "Moviepy - video ready ./audio/audio_5.mp4\n",
      "Moviepy - Building video ./audio/audio_5_example1.mp4.\n",
      "MoviePy - Writing audio in audio_5_example1TEMP_MPY_wvf_snd.mp4\n"
     ]
    },
    {
     "name": "stderr",
     "output_type": "stream",
     "text": [
      "t:  20%|██████████████                                                        | 4/20 [00:00<00:00, 34.57it/s, now=None]"
     ]
    },
    {
     "name": "stdout",
     "output_type": "stream",
     "text": [
      "MoviePy - Done.\n",
      "Moviepy - Writing video ./audio/audio_5_example1.mp4\n",
      "\n"
     ]
    },
    {
     "name": "stderr",
     "output_type": "stream",
     "text": [
      "                                                                                                                       \r"
     ]
    },
    {
     "name": "stdout",
     "output_type": "stream",
     "text": [
      "Moviepy - Done !\n",
      "Moviepy - video ready ./audio/audio_5_example1.mp4\n"
     ]
    },
    {
     "name": "stderr",
     "output_type": "stream",
     "text": [
      "t:   0%|                                                                              | 0/20 [00:00<?, ?it/s, now=None]"
     ]
    },
    {
     "name": "stdout",
     "output_type": "stream",
     "text": [
      "Moviepy - Building video ./audio/audio_5_example2.mp4.\n",
      "MoviePy - Writing audio in audio_5_example2TEMP_MPY_wvf_snd.mp4\n",
      "MoviePy - Done.\n",
      "Moviepy - Writing video ./audio/audio_5_example2.mp4\n",
      "\n"
     ]
    },
    {
     "name": "stderr",
     "output_type": "stream",
     "text": [
      "                                                                                                                       \r"
     ]
    },
    {
     "name": "stdout",
     "output_type": "stream",
     "text": [
      "Moviepy - Done !\n",
      "Moviepy - video ready ./audio/audio_5_example2.mp4\n",
      "Moviepy - Building video ./audio/audio_5_example3.mp4.\n",
      "MoviePy - Writing audio in audio_5_example3TEMP_MPY_wvf_snd.mp4\n"
     ]
    },
    {
     "name": "stderr",
     "output_type": "stream",
     "text": [
      "t:  15%|██████████▌                                                           | 3/20 [00:00<00:00, 26.86it/s, now=None]"
     ]
    },
    {
     "name": "stdout",
     "output_type": "stream",
     "text": [
      "MoviePy - Done.\n",
      "Moviepy - Writing video ./audio/audio_5_example3.mp4\n",
      "\n"
     ]
    },
    {
     "name": "stderr",
     "output_type": "stream",
     "text": [
      "                                                                                                                       \r"
     ]
    },
    {
     "name": "stdout",
     "output_type": "stream",
     "text": [
      "Moviepy - Done !\n",
      "Moviepy - video ready ./audio/audio_5_example3.mp4\n"
     ]
    },
    {
     "name": "stderr",
     "output_type": "stream",
     "text": [
      "t:   0%|                                                                              | 0/20 [00:00<?, ?it/s, now=None]"
     ]
    },
    {
     "name": "stdout",
     "output_type": "stream",
     "text": [
      "Moviepy - Building video ./audio/audio_25.mp4.\n",
      "MoviePy - Writing audio in audio_25TEMP_MPY_wvf_snd.mp4\n",
      "MoviePy - Done.\n",
      "Moviepy - Writing video ./audio/audio_25.mp4\n",
      "\n"
     ]
    },
    {
     "name": "stderr",
     "output_type": "stream",
     "text": [
      "                                                                                                                       \r"
     ]
    },
    {
     "name": "stdout",
     "output_type": "stream",
     "text": [
      "Moviepy - Done !\n",
      "Moviepy - video ready ./audio/audio_25.mp4\n",
      "Moviepy - Building video ./audio/audio_25_example1.mp4.\n",
      "MoviePy - Writing audio in audio_25_example1TEMP_MPY_wvf_snd.mp4\n"
     ]
    },
    {
     "name": "stderr",
     "output_type": "stream",
     "text": [
      "t:  20%|██████████████                                                        | 4/20 [00:00<00:00, 33.41it/s, now=None]"
     ]
    },
    {
     "name": "stdout",
     "output_type": "stream",
     "text": [
      "MoviePy - Done.\n",
      "Moviepy - Writing video ./audio/audio_25_example1.mp4\n",
      "\n"
     ]
    },
    {
     "name": "stderr",
     "output_type": "stream",
     "text": [
      "                                                                                                                       \r"
     ]
    },
    {
     "name": "stdout",
     "output_type": "stream",
     "text": [
      "Moviepy - Done !\n",
      "Moviepy - video ready ./audio/audio_25_example1.mp4\n",
      "Moviepy - Building video ./audio/audio_25_example2.mp4.\n",
      "MoviePy - Writing audio in audio_25_example2TEMP_MPY_wvf_snd.mp4\n"
     ]
    },
    {
     "name": "stderr",
     "output_type": "stream",
     "text": [
      "t:  20%|██████████████                                                        | 4/20 [00:00<00:00, 32.34it/s, now=None]"
     ]
    },
    {
     "name": "stdout",
     "output_type": "stream",
     "text": [
      "MoviePy - Done.\n",
      "Moviepy - Writing video ./audio/audio_25_example2.mp4\n",
      "\n"
     ]
    },
    {
     "name": "stderr",
     "output_type": "stream",
     "text": [
      "                                                                                                                       \r"
     ]
    },
    {
     "name": "stdout",
     "output_type": "stream",
     "text": [
      "Moviepy - Done !\n",
      "Moviepy - video ready ./audio/audio_25_example2.mp4\n",
      "Moviepy - Building video ./audio/audio_25_example3.mp4.\n",
      "MoviePy - Writing audio in audio_25_example3TEMP_MPY_wvf_snd.mp4\n"
     ]
    },
    {
     "name": "stderr",
     "output_type": "stream",
     "text": [
      "t:  20%|██████████████                                                        | 4/20 [00:00<00:00, 31.09it/s, now=None]"
     ]
    },
    {
     "name": "stdout",
     "output_type": "stream",
     "text": [
      "MoviePy - Done.\n",
      "Moviepy - Writing video ./audio/audio_25_example3.mp4\n",
      "\n"
     ]
    },
    {
     "name": "stderr",
     "output_type": "stream",
     "text": [
      "                                                                                                                       \r"
     ]
    },
    {
     "name": "stdout",
     "output_type": "stream",
     "text": [
      "Moviepy - Done !\n",
      "Moviepy - video ready ./audio/audio_25_example3.mp4\n"
     ]
    },
    {
     "name": "stderr",
     "output_type": "stream",
     "text": [
      "t:   0%|                                                                              | 0/20 [00:00<?, ?it/s, now=None]"
     ]
    },
    {
     "name": "stdout",
     "output_type": "stream",
     "text": [
      "Moviepy - Building video ./audio/audio_138.mp4.\n",
      "MoviePy - Writing audio in audio_138TEMP_MPY_wvf_snd.mp4\n",
      "MoviePy - Done.\n",
      "Moviepy - Writing video ./audio/audio_138.mp4\n",
      "\n"
     ]
    },
    {
     "name": "stderr",
     "output_type": "stream",
     "text": [
      "chunk:   0%|                                                                          | 0/23 [00:00<?, ?it/s, now=None]"
     ]
    },
    {
     "name": "stdout",
     "output_type": "stream",
     "text": [
      "Moviepy - Done !\n",
      "Moviepy - video ready ./audio/audio_138.mp4\n",
      "Moviepy - Building video ./audio/audio_138_example1.mp4.\n",
      "MoviePy - Writing audio in audio_138_example1TEMP_MPY_wvf_snd.mp4\n"
     ]
    },
    {
     "name": "stderr",
     "output_type": "stream",
     "text": [
      "t:  20%|██████████████                                                        | 4/20 [00:00<00:00, 35.18it/s, now=None]"
     ]
    },
    {
     "name": "stdout",
     "output_type": "stream",
     "text": [
      "MoviePy - Done.\n",
      "Moviepy - Writing video ./audio/audio_138_example1.mp4\n",
      "\n"
     ]
    },
    {
     "name": "stderr",
     "output_type": "stream",
     "text": [
      "                                                                                                                       \r"
     ]
    },
    {
     "name": "stdout",
     "output_type": "stream",
     "text": [
      "Moviepy - Done !\n",
      "Moviepy - video ready ./audio/audio_138_example1.mp4\n",
      "Moviepy - Building video ./audio/audio_138_example2.mp4."
     ]
    },
    {
     "name": "stderr",
     "output_type": "stream",
     "text": [
      "t:   0%|                                                                              | 0/20 [00:00<?, ?it/s, now=None]"
     ]
    },
    {
     "name": "stdout",
     "output_type": "stream",
     "text": [
      "\n",
      "MoviePy - Writing audio in audio_138_example2TEMP_MPY_wvf_snd.mp4\n",
      "MoviePy - Done.\n",
      "Moviepy - Writing video ./audio/audio_138_example2.mp4\n",
      "\n"
     ]
    },
    {
     "name": "stderr",
     "output_type": "stream",
     "text": [
      "chunk:   0%|                                                                          | 0/23 [00:00<?, ?it/s, now=None]"
     ]
    },
    {
     "name": "stdout",
     "output_type": "stream",
     "text": [
      "Moviepy - Done !\n",
      "Moviepy - video ready ./audio/audio_138_example2.mp4\n",
      "Moviepy - Building video ./audio/audio_138_example3.mp4.\n",
      "MoviePy - Writing audio in audio_138_example3TEMP_MPY_wvf_snd.mp4\n"
     ]
    },
    {
     "name": "stderr",
     "output_type": "stream",
     "text": [
      "t:  20%|██████████████                                                        | 4/20 [00:00<00:00, 33.97it/s, now=None]"
     ]
    },
    {
     "name": "stdout",
     "output_type": "stream",
     "text": [
      "MoviePy - Done.\n",
      "Moviepy - Writing video ./audio/audio_138_example3.mp4\n",
      "\n"
     ]
    },
    {
     "name": "stderr",
     "output_type": "stream",
     "text": [
      "                                                                                                                       \r"
     ]
    },
    {
     "name": "stdout",
     "output_type": "stream",
     "text": [
      "Moviepy - Done !\n",
      "Moviepy - video ready ./audio/audio_138_example3.mp4\n"
     ]
    }
   ],
   "source": [
    "for test_idx in all_idx:\n",
    "    test_input = x_test[test_idx]\n",
    "    label = exm.get_label_for(test_input)\n",
    "    (examples, indices) = exm.return_nearest_examples(test_input)\n",
    "    \n",
    "    plot_audio(test_input, \"audio_\" + str(test_idx))\n",
    "    plot_audio(examples[0], \"audio_\" + str(test_idx) + \"_example1\")\n",
    "    plot_audio(examples[1], \"audio_\" + str(test_idx) + \"_example2\")\n",
    "    plot_audio(examples[2], \"audio_\" + str(test_idx) + \"_example3\")"
   ]
  }
 ],
 "metadata": {
  "accelerator": "GPU",
  "colab": {
   "collapsed_sections": [],
   "name": "Audio Intepretable.ipynb",
   "provenance": [],
   "toc_visible": true
  },
  "kernelspec": {
   "display_name": "Python 3",
   "language": "python",
   "name": "python3"
  },
  "language_info": {
   "codemirror_mode": {
    "name": "ipython",
    "version": 3
   },
   "file_extension": ".py",
   "mimetype": "text/x-python",
   "name": "python",
   "nbconvert_exporter": "python",
   "pygments_lexer": "ipython3",
   "version": "3.7.7"
  }
 },
 "nbformat": 4,
 "nbformat_minor": 1
}
